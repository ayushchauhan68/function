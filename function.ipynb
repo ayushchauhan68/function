{
  "nbformat": 4,
  "nbformat_minor": 0,
  "metadata": {
    "colab": {
      "provenance": []
    },
    "kernelspec": {
      "name": "python3",
      "display_name": "Python 3"
    },
    "language_info": {
      "name": "python"
    }
  },
  "cells": [
    {
      "cell_type": "markdown",
      "source": [
        "Function assignment"
      ],
      "metadata": {
        "id": "qhKX7BuqfDK8"
      }
    },
    {
      "cell_type": "markdown",
      "source": [
        "1.  What is the difference between a function and a method in Python?\n",
        "\n",
        "Ans:Function is block of code that performs a specific task and we used def keyword. for example\n",
        "def add(x,y):\n",
        "     return x+y\n",
        "whereas a method  is defined within a class . A method is a function i.e, associated with an object\n",
        "2. Explain the concept of function arguments and parameters in Python.\n",
        "\n",
        "Ans:Parameters are the variables defined in the function definition.They are placeholders for the values that will be passed to the function.For example,def C(name, age):,\n",
        " name and age are the parameters.\n",
        " Arguments are the actual values that are passed to the function when it's called.They are assigned to the corresponding parameters in the function definition. for example, def C(\"Ayush\", 30), \"Ayush\" and 30 are the arguments.\n",
        " 3. What are the different ways to define and call a function in Python?\n",
        "\n",
        " Ans: using def keyword we can define our function. and for calling our function we  use the function name followed by parantheses (my_func (argument1,argument2))\n",
        " for exmple\n",
        " def add (x,y):\n",
        "        return x+y\n",
        "\n",
        "add(4,5)\n",
        "\n",
        "\n",
        "\n",
        "\n",
        "\n",
        "\n"
      ],
      "metadata": {
        "id": "oXDUtEXnfMF4"
      }
    },
    {
      "cell_type": "markdown",
      "source": [
        "4. What is the purpose of the `return` statement in a Python function?\n",
        "ans:\n",
        "return is a keyword that is used to exit a function and send a value back to the caller.\n",
        "When a function encounters a return statement, it immediately stops executing and returns the specified value to the caller. If no value is specified, the function returns None by default.\n",
        "Example:\n",
        "\n",
        "def add(a, b):\n",
        "    return a + b\n",
        "\n",
        "result = add(2, 3)\n",
        "print(result)\n",
        "5. What are iterators in Python and how do they differ from iterables?\n",
        "\n",
        "ans:An iterable is any object in Python that can be looped over using a for loop.\n",
        "It has a method called __iter__() that returns an iterator.\n",
        " An iterable is an object that you can loop over, while an iterator is the object that actually produces the values during iteration. Iterators are used behind the scenes when you use a for loop on an iterable\n",
        " 6. Explain the concept of generators in Python and how they are defined.\n",
        " ans:\n",
        " Generators are a special type of iterator in Python that are defined using function . it makes memory-efficient, especially when dealing with large datasets or infinite sequencesGenerators are defined like regular functions but use the yield keyword instead of return. When a generator function is called, it doesn't execute the function body immediately. Instead, it returns a generator object. This object can be iterated over using a for loop or by calling the next() function to get the next value in the sequence.\n",
        " def my_gen():\n",
        "      for i in range (5):\n",
        "            yield i\n",
        "gen= my_gen()\n",
        "\n",
        "print(next(gen))\n",
        "print(next(gen))\n",
        "print(next(gen))\n",
        "print(next(gen))\n",
        "print(next(gen))\n",
        "7. What are the advantages of using generators over regular functions?\n",
        "ans:\n",
        "Key Benefits of Generators\n",
        "\n",
        "Memory Efficiency: Generators produce values on demand, so they don't store the entire sequence in memory.\n",
        "Lazy Evaluation: Values are generated only when needed, saving computation time.\n",
        "Infinite Sequences: Generators can represent infinite sequences without running out of memory.\n",
        "Readability: Generator functions can be more concise and easier to understand than iterators defined using classes.\n",
        "8. What is a lambda function in Python and when is it typically used?\n",
        "Ans:\n",
        "A lambda function is a small, anonymous function defined using the lambda keyword. It can take any number of arguments but can only have one expression. The expression is evaluated and returned.\n",
        "Lambda functions are typically used in situations where a small, one-time function is needed, and it's not worth defining a full function using def.\n",
        "for example\n",
        "square=lambda x:x*x\n",
        "result=square(5)\n",
        "\n",
        "9. Explain the purpose and usage of the map() function in Python\n",
        "ans:\n",
        "The map() function applies a given function to each item of an iterable (like a list, tuple, etc.) and returns an iterator that yields the results. Essentially, it \"maps\" the function to each element of the iterable.\n",
        "\n",
        "Syntax:\n",
        "\n",
        "map(function, iterable, ...)\n",
        "example\n",
        "numbers = [1, 2, 3, 4, 5]\n",
        "squared_numbers = list(map(lambda x: x * x, numbers))\n",
        "\n",
        "10. What is the difference between `map()`, `reduce()`, and `filter()` functions in Python?\n",
        "Ans:\n",
        "1. map()\n",
        "\n",
        "Purpose: Applies a given function to each item of an iterable and returns an iterator that yields the results.\n",
        "Syntax: map(function, iterable, ...)\n",
        "Example:\n",
        "numbers = [1, 2, 3, 4, 5]\n",
        "squared_numbers = list(map(lambda x: x * x, numbers))  \n",
        "# squared_numbers will be [1, 4, 9, 16, 25]\n",
        "Use code with caution\n",
        "2. reduce()\n",
        "\n",
        "Purpose: Applies a function of two arguments cumulatively to the items of an iterable, reducing it to a single value.\n",
        "Syntax: reduce(function, iterable[, initializer])\n",
        "Example:\n",
        "from functools import reduce  # Import reduce from functools in Python 3\n",
        "\n",
        "numbers = [1, 2, 3, 4, 5]\n",
        "product = reduce(lambda x, y: x * y, numbers)  \n",
        "# product will be 120 (1 * 2 * 3 * 4 * 5)\n",
        "Use code with caution\n",
        "Note: In Python 3, reduce() is moved to the functools module, so you need to import it before using it.\n",
        "\n",
        "3. filter()\n",
        "\n",
        "Purpose: Constructs an iterator from elements of an iterable for which a function returns true. It filters the iterable based on a condition.\n",
        "Syntax: filter(function, iterable)\n",
        "Example:\n",
        "numbers = [1, 2, 3, 4, 5]\n",
        "even_numbers = list(filter(lambda x: x % 2 == 0, numbers))  \n",
        "# even_numbers will be [2, 4]\n",
        "\n",
        "Q 10. Using pen & Paper write the internal mechanism for sum operation using reduce function on this given list [47,11,42,13]"
      ],
      "metadata": {
        "id": "JU2huhYvnjUj"
      }
    },
    {
      "cell_type": "code",
      "source": [],
      "metadata": {
        "id": "oeLiFlJXfLvX"
      },
      "execution_count": null,
      "outputs": []
    },
    {
      "cell_type": "markdown",
      "source": [
        "Practical question"
      ],
      "metadata": {
        "id": "loTei8Qdev2Q"
      }
    },
    {
      "cell_type": "code",
      "execution_count": null,
      "metadata": {
        "id": "IUF9gS4he8c-",
        "colab": {
          "base_uri": "https://localhost:8080/"
        },
        "outputId": "1da88707-f7f7-4b82-b0a6-b19ae75eaea9"
      },
      "outputs": [
        {
          "output_type": "stream",
          "name": "stdout",
          "text": [
            "150\n"
          ]
        }
      ],
      "source": [
        "# 1. Write a Python function that takes a list of numbers as input and returns the sum of all even numbers in the list.\n",
        "def sum_even_numbers(numbers):\n",
        "    sum_even = 0\n",
        "    for num in numbers:\n",
        "        if num % 2 == 0:\n",
        "            sum_even += num\n",
        "    return sum_even\n",
        "\n",
        "numbers = [52,22,26,51,23,50]\n",
        "result = sum_even_numbers(numbers)\n",
        "print(result)\n",
        "\n",
        "\n"
      ]
    },
    {
      "cell_type": "code",
      "source": [
        "# 2. Create a Python function that accepts a string and returns the reverse of that string\n",
        "def reverse_string(input_string):\n",
        "    reversed_string = \"\"\n",
        "    for char in input_string:\n",
        "        reversed_string = char + reversed_string\n",
        "    return reversed_string\n",
        "input_string = \"Ayush\"\n",
        "result = reverse_string(input_string)\n",
        "print(result)"
      ],
      "metadata": {
        "colab": {
          "base_uri": "https://localhost:8080/"
        },
        "id": "WK9wjqr0fDO4",
        "outputId": "5e0f6478-6f10-46e2-b1b2-462bcdfee08b"
      },
      "execution_count": null,
      "outputs": [
        {
          "output_type": "stream",
          "name": "stdout",
          "text": [
            "hsuyA\n"
          ]
        }
      ]
    },
    {
      "cell_type": "code",
      "source": [
        "# 3. Implement a Python function that takes a list of integers and returns a new list containing the squares of each number.\n",
        "def square_numbers(numbers):\n",
        "    squared_numbers = []\n",
        "    for num in numbers:\n",
        "        squared_numbers.append(num ** 2)\n",
        "    return squared_numbers\n",
        "\n",
        "numbers = [1, 2, 3, 4, 5]\n",
        "result = square_numbers(numbers)\n",
        "print(result)\n",
        "# or\n",
        "def square (x):\n",
        "  return x*x\n",
        "\n",
        "newl=[2,4,5,6]\n",
        "result=list(map(square,newl))\n",
        "print(result)\n"
      ],
      "metadata": {
        "colab": {
          "base_uri": "https://localhost:8080/"
        },
        "id": "xwobWv1KgOIB",
        "outputId": "e1360fe2-73f5-443a-9ffe-b923eea93f85"
      },
      "execution_count": null,
      "outputs": [
        {
          "output_type": "stream",
          "name": "stdout",
          "text": [
            "[1, 4, 9, 16, 25]\n",
            "[4, 16, 25, 36]\n"
          ]
        }
      ]
    },
    {
      "cell_type": "code",
      "source": [
        "# 4. Write a Python function that checks if a given number is prime or not from 1 to 200.\n",
        "def is_prime(number):\n",
        "    if number <= 1:\n",
        "        return False\n",
        "    if number <= 3:\n",
        "        return True\n",
        "    if number % 2 == 0 or number % 3 == 0:\n",
        "        return False\n",
        "    i=5\n",
        "    while i*i <= number:\n",
        "        if number % i == 0 or number % (i + 2) == 0:\n",
        "            return False\n",
        "        i += 6\n",
        "    return True\n",
        "number =int (input(\"enter a number between 1 to 200\"))\n",
        "if number >= 1 and number <= 200:\n",
        "\n",
        "  if is_prime(number):\n",
        "      print(f\"{number} is a prime number.\")\n",
        "  else:\n",
        "      print(f\"{number} is not a prime number.\")\n",
        "else:\n",
        "  print(\"number is out of range\")"
      ],
      "metadata": {
        "colab": {
          "base_uri": "https://localhost:8080/"
        },
        "id": "Hqgj7oPLhpPh",
        "outputId": "8bc9e0ce-3ab6-4266-e58e-3f6d22eb5cf8"
      },
      "execution_count": null,
      "outputs": [
        {
          "output_type": "stream",
          "name": "stdout",
          "text": [
            "enter a number between 1 to 20031\n",
            "31 is a prime number.\n"
          ]
        }
      ]
    },
    {
      "cell_type": "code",
      "source": [
        "# 5. Create an iterator class in Python that generates the Fibonacci sequence up to a specified number of terms.\n",
        "class FibonacciIterator:\n",
        "    def __init__(self, n):\n",
        "        self.n = n\n",
        "        self.a= 0\n",
        "        self.b = 1\n",
        "        self.count = 0\n",
        "\n",
        "    def __iter__(self):\n",
        "        return self\n",
        "\n",
        "    def __next__(self):\n",
        "        if self.count < self.n:\n",
        "            result = self.a\n",
        "            self.a, self.b = self.b, self.a + self.b\n",
        "            self.count += 1\n",
        "            return result\n",
        "        else:\n",
        "            raise StopIteration\n"
      ],
      "metadata": {
        "id": "m8LI9msNi3Cl"
      },
      "execution_count": null,
      "outputs": []
    },
    {
      "cell_type": "code",
      "source": [
        "fib_iter = FibonacciIterator(5)\n",
        "\n",
        "for num in fib_iter:\n",
        "    print(num)"
      ],
      "metadata": {
        "colab": {
          "base_uri": "https://localhost:8080/"
        },
        "id": "FoZRd1a5wDPE",
        "outputId": "23fac1e3-3f96-4b22-d31a-4cb2c2ef069e"
      },
      "execution_count": null,
      "outputs": [
        {
          "output_type": "stream",
          "name": "stdout",
          "text": [
            "0\n",
            "1\n",
            "1\n",
            "2\n",
            "3\n"
          ]
        }
      ]
    },
    {
      "cell_type": "code",
      "source": [
        "# 6. Write a generator function in Python that yields the powers of 2 up to a given exponent.\n",
        "def my_gen(n):\n",
        "      for i in range (n+1):\n",
        "            yield 2**i\n",
        "# gen= my_gen()\n",
        "n=int(input(\"enter a number\"))\n",
        "for i in my_gen(n):\n",
        "  print(i)\n",
        "\n",
        "\n",
        "\n"
      ],
      "metadata": {
        "id": "SFuNni2_wutQ",
        "colab": {
          "base_uri": "https://localhost:8080/"
        },
        "outputId": "a19f6103-c38c-48cc-845e-ffac373f9db2"
      },
      "execution_count": null,
      "outputs": [
        {
          "output_type": "stream",
          "name": "stdout",
          "text": [
            "enter a number5\n",
            "1\n",
            "2\n",
            "4\n",
            "8\n",
            "16\n",
            "32\n"
          ]
        }
      ]
    },
    {
      "cell_type": "code",
      "source": [
        "#  7.Implement a generator function that reads a file line by line and yields each line as a string.\n",
        "def read_file_lines(file_path):\n",
        "    with open(file_path, 'r') as file:\n",
        "        for line in file:\n",
        "            yield line.strip()\n",
        "\n",
        "file_path = 'example.txt'\n",
        "for line in read_file_lines(file_path):\n",
        "    print(line)"
      ],
      "metadata": {
        "id": "MctlpGGZKkuP"
      },
      "execution_count": 1,
      "outputs": []
    },
    {
      "cell_type": "code",
      "source": [
        "# 8. Use a lambda function in Python to sort a list of tuples based on the second element of each tuple.\n",
        "my_list = [(1, 5), (3, 2), (2, 8), (5, 1)]\n",
        "sorted_list = sorted(my_list, key=lambda x: x[1])\n",
        "print(sorted_list)"
      ],
      "metadata": {
        "id": "0-0PEVnrTK6d",
        "colab": {
          "base_uri": "https://localhost:8080/"
        },
        "outputId": "1e2c22f8-afd9-4366-c6da-f8e6fc9a7a84"
      },
      "execution_count": 11,
      "outputs": [
        {
          "output_type": "stream",
          "name": "stdout",
          "text": [
            "[(5, 1), (3, 2), (1, 5), (2, 8)]\n"
          ]
        }
      ]
    },
    {
      "cell_type": "code",
      "source": [
        "# 9. Write a Python program that uses `map()` to convert a list of temperatures from Celsius to Fahrenheit.\n",
        "def celsius_to_fahrenheit(celsius):\n",
        "    return (celsius * 9/5) + 32\n",
        "\n",
        "temperatures_celsius = [0, 10, 20, 30, 40]\n",
        "temperatures_fahrenheit = list(map(celsius_to_fahrenheit, temperatures_celsius))\n",
        "print(temperatures_fahrenheit)\n"
      ],
      "metadata": {
        "colab": {
          "base_uri": "https://localhost:8080/"
        },
        "id": "ydhPfX6A67A9",
        "outputId": "b0678cdd-aab7-4cf6-fea6-8c8ef102dced"
      },
      "execution_count": 12,
      "outputs": [
        {
          "output_type": "stream",
          "name": "stdout",
          "text": [
            "[32.0, 50.0, 68.0, 86.0, 104.0]\n"
          ]
        }
      ]
    },
    {
      "cell_type": "code",
      "source": [
        "# 10. Create a Python program that uses `filter()` to remove all the vowels from a given string.\n",
        "def remove_vowels(input_string):\n",
        "    vowels = \"AEIOUaeiou\"\n",
        "    filtered_string = \"\"\n",
        "    for char in input_string:\n",
        "        if char not in vowels:\n",
        "            filtered_string += char\n",
        "    return filtered_string\n",
        "input_string = \"Hello, World!\"\n",
        "result = remove_vowels(input_string)\n",
        "print(result)\n",
        "\n"
      ],
      "metadata": {
        "colab": {
          "base_uri": "https://localhost:8080/"
        },
        "id": "U_pTOKUI7FO6",
        "outputId": "22ef2b36-fce1-4fe0-85ed-45b5190f419d"
      },
      "execution_count": 13,
      "outputs": [
        {
          "output_type": "stream",
          "name": "stdout",
          "text": [
            "Hll, Wrld!\n"
          ]
        }
      ]
    },
    {
      "cell_type": "code",
      "source": [
        "# 11) Imagine an accounting routine used in a book shop.\n",
        "# It works on a list with sublists, which look like this:\n",
        "#\n",
        "# Write a Python program, which returns a list with 2-tuples.\n",
        "#  Each tuple consists of the order number and the product of the price per item and the quantity.\n",
        "#  The product should be increased by 10,- € if the value of the order is smaller than 100,00 €.\n",
        "# Write a Python program using lambda and map.\n",
        "orders = [\n",
        "    [34587, \"Learning Python, Mark Lutz\", 4, 40.95],\n",
        "    [98762, \"Programming Python, Mark Lutz\", 5, 56.80],\n",
        "    [77226, \"Head First Python, Paul Barry\", 3, 32.95],\n",
        "    [88112, \"Einführung in Python3, Bernd Klein\", 3, 24.99]\n",
        "]\n",
        "\n",
        "\n",
        "invoice = list(map(lambda order: (\n",
        "    order[0],\n",
        "    round(order[2] * order[3] + (10 if order[2] * order[3] < 100 else 0), 2)\n",
        "), orders))\n",
        "\n",
        "print(invoice)"
      ],
      "metadata": {
        "colab": {
          "base_uri": "https://localhost:8080/"
        },
        "id": "CRVW8IAk7iSt",
        "outputId": "3fc068a1-c43d-4b1e-9065-e0197105cf39"
      },
      "execution_count": 14,
      "outputs": [
        {
          "output_type": "stream",
          "name": "stdout",
          "text": [
            "[(34587, 163.8), (98762, 284.0), (77226, 108.85), (88112, 84.97)]\n"
          ]
        }
      ]
    }
  ]
}